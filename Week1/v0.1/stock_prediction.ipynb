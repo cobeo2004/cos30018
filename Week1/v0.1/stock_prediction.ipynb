{
 "cells": [
  {
   "cell_type": "markdown",
   "metadata": {},
   "source": [
    "# Stock Price Prediction using LSTM\n",
    "# \n",
    "## This notebook demonstrates how to predict stock prices using a Long Short-Term Memory (LSTM) neural network."
   ]
  },
  {
   "cell_type": "markdown",
   "metadata": {},
   "source": [
    "### Importing Required Libraries"
   ]
  },
  {
   "cell_type": "code",
   "execution_count": null,
   "metadata": {},
   "outputs": [],
   "source": [
    "!pip install -U -r requirements.txt"
   ]
  },
  {
   "cell_type": "code",
   "execution_count": null,
   "metadata": {},
   "outputs": [],
   "source": [
    "# Numerical computing\n",
    "import numpy as np\n",
    "\n",
    "# Data manipulation and analysis\n",
    "import pandas as pd\n",
    "\n",
    "# Data visualization\n",
    "import matplotlib.pyplot as plt\n",
    "\n",
    "# Date and time operations\n",
    "import datetime as dt\n",
    "\n",
    "# Machine learning and deep learning\n",
    "import tensorflow as tf\n",
    "from sklearn.preprocessing import MinMaxScaler\n",
    "from tensorflow.keras.models import Sequential\n",
    "from tensorflow.keras.layers import Dense, Dropout, LSTM, InputLayer\n",
    "\n",
    "# Stock data retrieval\n",
    "import yfinance as yf"
   ]
  },
  {
   "cell_type": "markdown",
   "metadata": {},
   "source": [
    "### Loading and Preparing Data"
   ]
  },
  {
   "cell_type": "code",
   "execution_count": null,
   "metadata": {},
   "outputs": [],
   "source": [
    "#Stock to predict\n",
    "COMPANY = 'CBA.AX'\n",
    "#Train start date\n",
    "TRAIN_START = '2020-01-01'\n",
    "#Train end date\n",
    "TRAIN_END = '2023-08-01'\n",
    "#Price value to predict\n",
    "PRICE_VALUE = \"Close\"\n",
    "#Number of days to predict\n",
    "PREDICTION_DAYS = 60\n",
    "\n",
    "# Download stock data\n",
    "data = yf.download(COMPANY, TRAIN_START, TRAIN_END)\n",
    "\n",
    "# Prepare data for scaling using `MinMaxScaler()`\n",
    "scaler = MinMaxScaler(feature_range=(0, 1))\n",
    "scaled_data = scaler.fit_transform(data[PRICE_VALUE].values.reshape(-1, 1))\n",
    "\n",
    "# Prepare training data\n",
    "x_train = []\n",
    "y_train = []\n",
    "\n",
    "scaled_data = scaled_data[:,0]\n",
    "for x in range(PREDICTION_DAYS, len(scaled_data)):\n",
    "    x_train.append(scaled_data[x-PREDICTION_DAYS:x])\n",
    "    y_train.append(scaled_data[x])\n",
    "\n",
    "# Convert to numpy arrays\n",
    "x_train, y_train = np.array(x_train), np.array(y_train)\n",
    "x_train = np.reshape(x_train, (x_train.shape[0], x_train.shape[1], 1))"
   ]
  },
  {
   "cell_type": "markdown",
   "metadata": {},
   "source": [
    "### Building and Training the Model"
   ]
  },
  {
   "cell_type": "code",
   "execution_count": null,
   "metadata": {},
   "outputs": [],
   "source": [
    "# Using Sequential model\n",
    "model = Sequential()\n",
    "\n",
    "# Adding LSTM layers\n",
    "model.add(LSTM(units=50, return_sequences=True, input_shape=(x_train.shape[1], 1)))\n",
    "# For each LSTM layer, we add a dropout layer\n",
    "model.add(Dropout(0.2))\n",
    "# Adding LSTM layers\n",
    "model.add(LSTM(units=50, return_sequences=True))\n",
    "# For each LSTM layer, we add a dropout layer\n",
    "model.add(Dropout(0.2))\n",
    "# Adding LSTM layers\n",
    "model.add(LSTM(units=50))\n",
    "# For each LSTM layer, we add a dropout layer\n",
    "model.add(Dropout(0.2))\n",
    "# Adding Dense layer\n",
    "model.add(Dense(units=1))\n",
    "\n",
    "# Compile the model\n",
    "model.compile(optimizer='adam', loss='mean_squared_error')\n",
    "\n",
    "# Train the model\n",
    "model.fit(x_train, y_train, epochs=25, batch_size=32)"
   ]
  },
  {
   "cell_type": "markdown",
   "metadata": {},
   "source": [
    "### Testing the Model"
   ]
  },
  {
   "cell_type": "code",
   "execution_count": null,
   "metadata": {},
   "outputs": [],
   "source": [
    "# Test start date\n",
    "TEST_START = '2023-08-02'\n",
    "# Test end date\n",
    "TEST_END = '2024-07-02'\n",
    "\n",
    "# Download test data\n",
    "test_data = yf.download(COMPANY, TEST_START, TEST_END)\n",
    "# Actual prices\n",
    "actual_prices = test_data[PRICE_VALUE].values\n",
    "\n",
    "# Concatenate training and test data\n",
    "total_dataset = pd.concat((data[PRICE_VALUE], test_data[PRICE_VALUE]), axis=0)\n",
    "\n",
    "# Prepare test data\n",
    "model_inputs = total_dataset[len(total_dataset) - len(test_data) - PREDICTION_DAYS:].values\n",
    "# Reshape the data\n",
    "model_inputs = model_inputs.reshape(-1, 1)\n",
    "# Scale the data\n",
    "model_inputs = scaler.transform(model_inputs)\n",
    "\n",
    "# Make predictions\n",
    "x_test = []\n",
    "for x in range(PREDICTION_DAYS, len(model_inputs)):\n",
    "    # Append the last PREDICTION_DAYS days to x_test\n",
    "    x_test.append(model_inputs[x - PREDICTION_DAYS:x, 0])\n",
    "\n",
    "# Convert to numpy arrays\n",
    "x_test = np.array(x_test)\n",
    "# Reshape the data\n",
    "x_test = np.reshape(x_test, (x_test.shape[0], x_test.shape[1], 1))\n",
    "\n",
    "# Predict the prices\n",
    "predicted_prices = model.predict(x_test)\n",
    "# Inverse transform the data\n",
    "predicted_prices = scaler.inverse_transform(predicted_prices)"
   ]
  },
  {
   "cell_type": "markdown",
   "metadata": {},
   "source": [
    "### Visualizing the Results"
   ]
  },
  {
   "cell_type": "code",
   "execution_count": null,
   "metadata": {},
   "outputs": [],
   "source": [
    "# Plot the actual prices\n",
    "plt.plot(actual_prices, color=\"black\", label=f\"Actual {COMPANY} Price\")\n",
    "# Plot the predicted prices\n",
    "plt.plot(predicted_prices, color=\"green\", label=f\"Predicted {COMPANY} Price\")\n",
    "# Set the title\n",
    "plt.title(f\"{COMPANY} Share Price\")\n",
    "# Set the x-axis label\n",
    "plt.xlabel(\"Time\")\n",
    "# Set the y-axis label\n",
    "plt.ylabel(f\"{COMPANY} Share Price\")\n",
    "# Add a legend\n",
    "plt.legend()\n",
    "# Show the plot\n",
    "plt.show()\n",
    "### Predicting the Next Day's Price\n",
    "plt.show()"
   ]
  },
  {
   "cell_type": "markdown",
   "metadata": {},
   "source": [
    "### Predicting the Next Day's Price"
   ]
  },
  {
   "cell_type": "code",
   "execution_count": null,
   "metadata": {},
   "outputs": [],
   "source": [
    "# Get the last PREDICTION_DAYS days\n",
    "real_data = [model_inputs[len(model_inputs) - PREDICTION_DAYS:, 0]]\n",
    "# Convert to numpy array\n",
    "real_data = np.array(real_data)\n",
    "# Reshape the data\n",
    "real_data = np.reshape(real_data, (real_data.shape[0], real_data.shape[1], 1))\n",
    "\n",
    "# Predict the next day's price\n",
    "prediction = model.predict(real_data)\n",
    "# Inverse transform the data\n",
    "prediction = scaler.inverse_transform(prediction)\n",
    "# Print the prediction\n",
    "print(f\"Prediction: {prediction}\")"
   ]
  }
 ],
 "metadata": {
  "kernelspec": {
   "display_name": "cos30019-env-w1-p1",
   "language": "python",
   "name": "python3"
  },
  "language_info": {
   "name": "python",
   "version": "3.11.9"
  }
 },
 "nbformat": 4,
 "nbformat_minor": 2
}
